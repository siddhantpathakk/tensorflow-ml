{
 "cells": [
  {
   "cell_type": "markdown",
   "metadata": {},
   "source": [
    "## Logistic Regression example"
   ]
  },
  {
   "cell_type": "markdown",
   "metadata": {},
   "source": [
    "Create the artificial dataset"
   ]
  },
  {
   "cell_type": "code",
   "execution_count": 1,
   "metadata": {},
   "outputs": [],
   "source": [
    "import numpy as np\n",
    "import pandas as pd\n",
    "\n",
    "# Create synthetic data\n",
    "np.random.seed(42)\n",
    "num_samples = 200\n",
    "X1_class0 = np.random.normal(loc=5, scale=1, size=num_samples // 2)\n",
    "X2_class0 = np.random.normal(loc=3, scale=1, size=num_samples // 2)\n",
    "X3_class0 = np.random.normal(loc=8, scale=2, size=num_samples // 2)\n",
    "X4_class0 = np.random.normal(loc=4, scale=2, size=num_samples // 2)\n",
    "X5_class0 = np.random.normal(loc=6, scale=1, size=num_samples // 2)\n",
    "\n",
    "X1_class1 = np.random.normal(loc=10, scale=1, size=num_samples // 2)\n",
    "X2_class1 = np.random.normal(loc=8, scale=1, size=num_samples // 2)\n",
    "X3_class1 = np.random.normal(loc=15, scale=2, size=num_samples // 2)\n",
    "X4_class1 = np.random.normal(loc=12, scale=2, size=num_samples // 2)\n",
    "X5_class1 = np.random.normal(loc=18, scale=1, size=num_samples // 2)\n",
    "\n",
    "# Create feature matrix X and target vector y\n",
    "X_class0 = np.column_stack((X1_class0, X2_class0, X3_class0, X4_class0, X5_class0))\n",
    "X_class1 = np.column_stack((X1_class1, X2_class1, X3_class1, X4_class1, X5_class1))\n",
    "X = np.vstack((X_class0, X_class1))\n",
    "\n",
    "y_class0 = np.zeros(num_samples // 2)\n",
    "y_class1 = np.ones(num_samples // 2)\n",
    "y = np.concatenate((y_class0, y_class1))\n",
    "\n",
    "# Shuffle the data\n",
    "indices = np.arange(num_samples)\n",
    "np.random.shuffle(indices)\n",
    "X = X[indices]\n",
    "y = y[indices]\n",
    "\n",
    "# Convert data to a Pandas DataFrame\n",
    "data = pd.DataFrame({'X1': X[:, 0], 'X2': X[:, 1], 'X3': X[:, 2], 'X4': X[:, 3], 'X5': X[:, 4], 'y': y})"
   ]
  },
  {
   "cell_type": "code",
   "execution_count": 2,
   "metadata": {},
   "outputs": [
    {
     "data": {
      "text/html": [
       "<div>\n",
       "<style scoped>\n",
       "    .dataframe tbody tr th:only-of-type {\n",
       "        vertical-align: middle;\n",
       "    }\n",
       "\n",
       "    .dataframe tbody tr th {\n",
       "        vertical-align: top;\n",
       "    }\n",
       "\n",
       "    .dataframe thead th {\n",
       "        text-align: right;\n",
       "    }\n",
       "</style>\n",
       "<table border=\"1\" class=\"dataframe\">\n",
       "  <thead>\n",
       "    <tr style=\"text-align: right;\">\n",
       "      <th></th>\n",
       "      <th>X1</th>\n",
       "      <th>X2</th>\n",
       "      <th>X3</th>\n",
       "      <th>X4</th>\n",
       "      <th>X5</th>\n",
       "      <th>y</th>\n",
       "    </tr>\n",
       "  </thead>\n",
       "  <tbody>\n",
       "    <tr>\n",
       "      <th>0</th>\n",
       "      <td>10.394452</td>\n",
       "      <td>8.198085</td>\n",
       "      <td>13.283284</td>\n",
       "      <td>10.895554</td>\n",
       "      <td>18.569767</td>\n",
       "      <td>1.0</td>\n",
       "    </tr>\n",
       "    <tr>\n",
       "      <th>1</th>\n",
       "      <td>4.470240</td>\n",
       "      <td>2.153206</td>\n",
       "      <td>8.561984</td>\n",
       "      <td>5.900848</td>\n",
       "      <td>7.687142</td>\n",
       "      <td>0.0</td>\n",
       "    </tr>\n",
       "    <tr>\n",
       "      <th>2</th>\n",
       "      <td>9.143916</td>\n",
       "      <td>8.444263</td>\n",
       "      <td>11.678078</td>\n",
       "      <td>14.217407</td>\n",
       "      <td>18.026886</td>\n",
       "      <td>1.0</td>\n",
       "    </tr>\n",
       "    <tr>\n",
       "      <th>3</th>\n",
       "      <td>10.018418</td>\n",
       "      <td>9.246085</td>\n",
       "      <td>16.415504</td>\n",
       "      <td>11.646106</td>\n",
       "      <td>18.128104</td>\n",
       "      <td>1.0</td>\n",
       "    </tr>\n",
       "    <tr>\n",
       "      <th>4</th>\n",
       "      <td>9.584712</td>\n",
       "      <td>6.870948</td>\n",
       "      <td>12.329311</td>\n",
       "      <td>10.938262</td>\n",
       "      <td>18.425458</td>\n",
       "      <td>1.0</td>\n",
       "    </tr>\n",
       "    <tr>\n",
       "      <th>...</th>\n",
       "      <td>...</td>\n",
       "      <td>...</td>\n",
       "      <td>...</td>\n",
       "      <td>...</td>\n",
       "      <td>...</td>\n",
       "      <td>...</td>\n",
       "    </tr>\n",
       "    <tr>\n",
       "      <th>195</th>\n",
       "      <td>4.520826</td>\n",
       "      <td>2.025318</td>\n",
       "      <td>6.146139</td>\n",
       "      <td>5.038693</td>\n",
       "      <td>7.964725</td>\n",
       "      <td>0.0</td>\n",
       "    </tr>\n",
       "    <tr>\n",
       "      <th>196</th>\n",
       "      <td>10.562969</td>\n",
       "      <td>9.355638</td>\n",
       "      <td>12.183077</td>\n",
       "      <td>11.075449</td>\n",
       "      <td>19.278452</td>\n",
       "      <td>1.0</td>\n",
       "    </tr>\n",
       "    <tr>\n",
       "      <th>197</th>\n",
       "      <td>5.343618</td>\n",
       "      <td>3.521942</td>\n",
       "      <td>11.530908</td>\n",
       "      <td>2.563112</td>\n",
       "      <td>5.486133</td>\n",
       "      <td>0.0</td>\n",
       "    </tr>\n",
       "    <tr>\n",
       "      <th>198</th>\n",
       "      <td>11.676437</td>\n",
       "      <td>5.926610</td>\n",
       "      <td>13.875066</td>\n",
       "      <td>10.403406</td>\n",
       "      <td>17.318948</td>\n",
       "      <td>1.0</td>\n",
       "    </tr>\n",
       "    <tr>\n",
       "      <th>199</th>\n",
       "      <td>10.099332</td>\n",
       "      <td>8.481009</td>\n",
       "      <td>14.272776</td>\n",
       "      <td>12.164568</td>\n",
       "      <td>17.553566</td>\n",
       "      <td>1.0</td>\n",
       "    </tr>\n",
       "  </tbody>\n",
       "</table>\n",
       "<p>200 rows × 6 columns</p>\n",
       "</div>"
      ],
      "text/plain": [
       "            X1        X2         X3         X4         X5    y\n",
       "0    10.394452  8.198085  13.283284  10.895554  18.569767  1.0\n",
       "1     4.470240  2.153206   8.561984   5.900848   7.687142  0.0\n",
       "2     9.143916  8.444263  11.678078  14.217407  18.026886  1.0\n",
       "3    10.018418  9.246085  16.415504  11.646106  18.128104  1.0\n",
       "4     9.584712  6.870948  12.329311  10.938262  18.425458  1.0\n",
       "..         ...       ...        ...        ...        ...  ...\n",
       "195   4.520826  2.025318   6.146139   5.038693   7.964725  0.0\n",
       "196  10.562969  9.355638  12.183077  11.075449  19.278452  1.0\n",
       "197   5.343618  3.521942  11.530908   2.563112   5.486133  0.0\n",
       "198  11.676437  5.926610  13.875066  10.403406  17.318948  1.0\n",
       "199  10.099332  8.481009  14.272776  12.164568  17.553566  1.0\n",
       "\n",
       "[200 rows x 6 columns]"
      ]
     },
     "execution_count": 2,
     "metadata": {},
     "output_type": "execute_result"
    }
   ],
   "source": [
    "data"
   ]
  },
  {
   "cell_type": "code",
   "execution_count": 3,
   "metadata": {},
   "outputs": [],
   "source": [
    "from sklearn.model_selection import train_test_split\n",
    "\n",
    "# Import the LogisticRegression class from your code (assuming it's in the same file)\n",
    "# from your_code_file import LogisticRegression\n",
    "\n",
    "# Create the artificial dataset\n",
    "# (use the code provided in the previous response to generate the dataset)\n",
    "\n",
    "# Split the data into training and testing sets\n",
    "X = data[['X1', 'X2', 'X3', 'X4', 'X5']].values\n",
    "y = data['y'].values\n",
    "X_train, X_test, y_train, y_test = train_test_split(X, y, test_size=0.2, random_state=42)"
   ]
  },
  {
   "cell_type": "markdown",
   "metadata": {},
   "source": [
    "Test the model"
   ]
  },
  {
   "cell_type": "code",
   "execution_count": 4,
   "metadata": {},
   "outputs": [
    {
     "name": "stderr",
     "output_type": "stream",
     "text": [
      "WARNING:absl:At this time, the v2.11+ optimizer `tf.keras.optimizers.Adam` runs slowly on M1/M2 Macs, please use the legacy Keras optimizer instead, located at `tf.keras.optimizers.legacy.Adam`.\n"
     ]
    },
    {
     "name": "stdout",
     "output_type": "stream",
     "text": [
      "Accuracy on test set: 0.5250\n",
      "Cross-entropy loss on test set: 3.0167\n"
     ]
    }
   ],
   "source": [
    "from tensorflow_ml.classification.logistic_regression import LogisticRegression\n",
    "\n",
    "# Initialize and set hyperparameters for the LogisticRegression class\n",
    "logistic_regression = LogisticRegression()\n",
    "params = {\n",
    "    'learning_rate': 0.01,\n",
    "    'num_epochs': 1000,\n",
    "    'batch_size': 32,\n",
    "    'reg_strength': 0.001,\n",
    "    'early_stopping_patience': 10,\n",
    "    'regularization': 'l2'\n",
    "}\n",
    "logistic_regression.set_params(params)\n",
    "\n",
    "# Train the model\n",
    "logistic_regression.fit(X_train, y_train)\n",
    "\n",
    "# Evaluate the model on the test set\n",
    "accuracy, cross_entropy_loss = logistic_regression.score(X_test, y_test)\n",
    "\n",
    "print(f\"Accuracy on test set: {accuracy:.4f}\")\n",
    "print(f\"Cross-entropy loss on test set: {cross_entropy_loss:.4f}\")"
   ]
  },
  {
   "cell_type": "code",
   "execution_count": 5,
   "metadata": {},
   "outputs": [
    {
     "name": "stdout",
     "output_type": "stream",
     "text": [
      "Accuracy: 1.0000\n"
     ]
    }
   ],
   "source": [
    "from sklearn.linear_model import LogisticRegression as LR\n",
    "from sklearn.model_selection import train_test_split\n",
    "from sklearn.metrics import accuracy_score\n",
    "\n",
    "lr = LR()\n",
    "lr.fit(X_train, y_train)\n",
    "y_pred = lr.predict(X_test)\n",
    "print(f\"Accuracy: {accuracy_score(y_test, y_pred):.4f}\")"
   ]
  }
 ],
 "metadata": {
  "kernelspec": {
   "display_name": "tfml",
   "language": "python",
   "name": "python3"
  },
  "language_info": {
   "codemirror_mode": {
    "name": "ipython",
    "version": 3
   },
   "file_extension": ".py",
   "mimetype": "text/x-python",
   "name": "python",
   "nbconvert_exporter": "python",
   "pygments_lexer": "ipython3",
   "version": "3.11.4"
  },
  "orig_nbformat": 4
 },
 "nbformat": 4,
 "nbformat_minor": 2
}
