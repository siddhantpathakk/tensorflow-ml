{
 "cells": [
  {
   "cell_type": "markdown",
   "metadata": {},
   "source": [
    "## Decision Trees example"
   ]
  },
  {
   "cell_type": "markdown",
   "metadata": {},
   "source": [
    "#### Classification dataset"
   ]
  },
  {
   "cell_type": "code",
   "execution_count": 1,
   "metadata": {},
   "outputs": [],
   "source": [
    "import numpy as np\n",
    "import pandas as pd\n",
    "\n",
    "# Set a random seed for reproducibility\n",
    "np.random.seed(42)\n",
    "\n",
    "# Number of samples\n",
    "num_samples = 1000\n",
    "\n",
    "# Generate two random features\n",
    "feature1 = np.random.rand(num_samples)\n",
    "feature2 = np.random.rand(num_samples)\n",
    "\n",
    "# Create three artificial classes based on the features\n",
    "class_0_indices = (feature1 + feature2) < 0.8\n",
    "class_1_indices = (feature1 + feature2) >= 0.8\n",
    "\n",
    "# Assign labels to each class\n",
    "labels = np.zeros(num_samples, dtype=int)\n",
    "labels[class_1_indices] = 1\n",
    "labels[class_0_indices] = 0\n",
    "\n",
    "# Combine the features and labels into a DataFrame\n",
    "data = pd.DataFrame({'Feature1': feature1, 'Feature2': feature2, 'Label': labels})\n"
   ]
  },
  {
   "cell_type": "code",
   "execution_count": 2,
   "metadata": {},
   "outputs": [
    {
     "data": {
      "text/html": [
       "<div>\n",
       "<style scoped>\n",
       "    .dataframe tbody tr th:only-of-type {\n",
       "        vertical-align: middle;\n",
       "    }\n",
       "\n",
       "    .dataframe tbody tr th {\n",
       "        vertical-align: top;\n",
       "    }\n",
       "\n",
       "    .dataframe thead th {\n",
       "        text-align: right;\n",
       "    }\n",
       "</style>\n",
       "<table border=\"1\" class=\"dataframe\">\n",
       "  <thead>\n",
       "    <tr style=\"text-align: right;\">\n",
       "      <th></th>\n",
       "      <th>Feature1</th>\n",
       "      <th>Feature2</th>\n",
       "      <th>Label</th>\n",
       "    </tr>\n",
       "  </thead>\n",
       "  <tbody>\n",
       "    <tr>\n",
       "      <th>0</th>\n",
       "      <td>0.374540</td>\n",
       "      <td>0.185133</td>\n",
       "      <td>0</td>\n",
       "    </tr>\n",
       "    <tr>\n",
       "      <th>1</th>\n",
       "      <td>0.950714</td>\n",
       "      <td>0.541901</td>\n",
       "      <td>1</td>\n",
       "    </tr>\n",
       "    <tr>\n",
       "      <th>2</th>\n",
       "      <td>0.731994</td>\n",
       "      <td>0.872946</td>\n",
       "      <td>1</td>\n",
       "    </tr>\n",
       "    <tr>\n",
       "      <th>3</th>\n",
       "      <td>0.598658</td>\n",
       "      <td>0.732225</td>\n",
       "      <td>1</td>\n",
       "    </tr>\n",
       "    <tr>\n",
       "      <th>4</th>\n",
       "      <td>0.156019</td>\n",
       "      <td>0.806561</td>\n",
       "      <td>1</td>\n",
       "    </tr>\n",
       "    <tr>\n",
       "      <th>...</th>\n",
       "      <td>...</td>\n",
       "      <td>...</td>\n",
       "      <td>...</td>\n",
       "    </tr>\n",
       "    <tr>\n",
       "      <th>995</th>\n",
       "      <td>0.091582</td>\n",
       "      <td>0.656955</td>\n",
       "      <td>0</td>\n",
       "    </tr>\n",
       "    <tr>\n",
       "      <th>996</th>\n",
       "      <td>0.917314</td>\n",
       "      <td>0.956615</td>\n",
       "      <td>1</td>\n",
       "    </tr>\n",
       "    <tr>\n",
       "      <th>997</th>\n",
       "      <td>0.136819</td>\n",
       "      <td>0.068958</td>\n",
       "      <td>0</td>\n",
       "    </tr>\n",
       "    <tr>\n",
       "      <th>998</th>\n",
       "      <td>0.950237</td>\n",
       "      <td>0.057055</td>\n",
       "      <td>1</td>\n",
       "    </tr>\n",
       "    <tr>\n",
       "      <th>999</th>\n",
       "      <td>0.446006</td>\n",
       "      <td>0.282187</td>\n",
       "      <td>0</td>\n",
       "    </tr>\n",
       "  </tbody>\n",
       "</table>\n",
       "<p>1000 rows × 3 columns</p>\n",
       "</div>"
      ],
      "text/plain": [
       "     Feature1  Feature2  Label\n",
       "0    0.374540  0.185133      0\n",
       "1    0.950714  0.541901      1\n",
       "2    0.731994  0.872946      1\n",
       "3    0.598658  0.732225      1\n",
       "4    0.156019  0.806561      1\n",
       "..        ...       ...    ...\n",
       "995  0.091582  0.656955      0\n",
       "996  0.917314  0.956615      1\n",
       "997  0.136819  0.068958      0\n",
       "998  0.950237  0.057055      1\n",
       "999  0.446006  0.282187      0\n",
       "\n",
       "[1000 rows x 3 columns]"
      ]
     },
     "execution_count": 2,
     "metadata": {},
     "output_type": "execute_result"
    }
   ],
   "source": [
    "data"
   ]
  },
  {
   "cell_type": "code",
   "execution_count": 20,
   "metadata": {},
   "outputs": [
    {
     "name": "stdout",
     "output_type": "stream",
     "text": [
      "Use /var/folders/ll/h2ldzwfj6kl5qkxyrsrp33p80000gn/T/tmpgykfh8cu as temporary training directory\n",
      "Use /var/folders/ll/h2ldzwfj6kl5qkxyrsrp33p80000gn/T/tmpzcvdoeh7 as temporary training directory\n",
      "Use /var/folders/ll/h2ldzwfj6kl5qkxyrsrp33p80000gn/T/tmpvr64nunq as temporary training directory\n"
     ]
    },
    {
     "name": "stderr",
     "output_type": "stream",
     "text": [
      "[WARNING 23-08-07 02:53:30.1175 +08 gradient_boosted_trees.cc:1818] \"goss_alpha\" set but \"sampling_method\" not equal to \"GOSS\".\n",
      "[WARNING 23-08-07 02:53:30.1175 +08 gradient_boosted_trees.cc:1829] \"goss_beta\" set but \"sampling_method\" not equal to \"GOSS\".\n",
      "[WARNING 23-08-07 02:53:30.1175 +08 gradient_boosted_trees.cc:1843] \"selective_gradient_boosting_ratio\" set but \"sampling_method\" not equal to \"SELGB\".\n"
     ]
    }
   ],
   "source": [
    "from tensorflow_ml.classification.decision_tree import DecisionTree\n",
    "\n",
    "gbt = DecisionTree(model = \"gbt\", verbose = True)\n",
    "rf = DecisionTree(model = \"rf\", verbose = True)\n",
    "cart = DecisionTree(model = \"cart\", verbose = True)"
   ]
  },
  {
   "cell_type": "code",
   "execution_count": 21,
   "metadata": {},
   "outputs": [
    {
     "name": "stdout",
     "output_type": "stream",
     "text": [
      "\n",
      "Model: cart\n",
      "Params: {'task': 1}\n",
      "\n",
      "Model: rf\n",
      "Params: {'task': 1}\n",
      "\n",
      "Model: gbt\n",
      "Params: {'task': 1}\n"
     ]
    }
   ],
   "source": [
    "# Print the configs for each model in a loop\n",
    "models = {\n",
    "    \"cart\":cart,\n",
    "    \"rf\":rf,\n",
    "    \"gbt\":gbt,\n",
    "}\n",
    "\n",
    "for model_name in models.keys():\n",
    "    print(f\"\\nModel: {model_name}\")\n",
    "    print(f\"Params: {models[model_name].get_params()}\")"
   ]
  },
  {
   "cell_type": "code",
   "execution_count": 22,
   "metadata": {},
   "outputs": [
    {
     "name": "stderr",
     "output_type": "stream",
     "text": [
      "WARNING:absl:At this time, the v2.11+ optimizer `tf.keras.optimizers.SGD` runs slowly on M1/M2 Macs, please use the legacy Keras optimizer instead, located at `tf.keras.optimizers.legacy.SGD`.\n",
      "WARNING:absl:There is a known slowdown when using v2.11+ Keras optimizers on M1/M2 Macs. Falling back to the legacy Keras optimizer, i.e., `tf.keras.optimizers.legacy.SGD`.\n"
     ]
    },
    {
     "name": "stdout",
     "output_type": "stream",
     "text": [
      "--------------------------------------------------\n",
      "Now training model: cart\n",
      "Reading training dataset...\n",
      "Training dataset read in 0:00:00.072817. Found 675 examples.\n",
      "Reading validation dataset...\n",
      "Num validation examples: tf.Tensor(154, shape=(), dtype=int32)\n",
      "Validation dataset read in 0:00:00.058348. Found 154 examples.\n",
      "Training model...\n",
      "Model trained in 0:00:00.004544\n",
      "Compiling model...\n",
      "Model compiled.\n"
     ]
    },
    {
     "name": "stderr",
     "output_type": "stream",
     "text": [
      "[INFO 23-08-07 02:53:31.0423 +08 kernel.cc:1243] Loading model from path /var/folders/ll/h2ldzwfj6kl5qkxyrsrp33p80000gn/T/tmpvr64nunq/model/ with prefix 45c51ca53a0e4887\n",
      "[INFO 23-08-07 02:53:31.0425 +08 decision_forest.cc:660] Model loaded with 1 root(s), 13 node(s), and 2 input feature(s).\n",
      "[INFO 23-08-07 02:53:31.0425 +08 abstract_model.cc:1312] Engine \"RandomForestOptPred\" built\n",
      "[INFO 23-08-07 02:53:31.0425 +08 kernel.cc:1075] Use fast generic engine\n"
     ]
    },
    {
     "name": "stdout",
     "output_type": "stream",
     "text": [
      "1/1 [==============================] - 0s 27ms/step - loss: 0.0000e+00 - accuracy: 0.9181\n",
      "loss: 0.0000\n",
      "accuracy: 0.9181\n",
      "1/1 [==============================] - 0s 12ms/step\n"
     ]
    },
    {
     "name": "stderr",
     "output_type": "stream",
     "text": [
      "WARNING:absl:At this time, the v2.11+ optimizer `tf.keras.optimizers.SGD` runs slowly on M1/M2 Macs, please use the legacy Keras optimizer instead, located at `tf.keras.optimizers.legacy.SGD`.\n",
      "WARNING:absl:There is a known slowdown when using v2.11+ Keras optimizers on M1/M2 Macs. Falling back to the legacy Keras optimizer, i.e., `tf.keras.optimizers.legacy.SGD`.\n"
     ]
    },
    {
     "name": "stdout",
     "output_type": "stream",
     "text": [
      "--------------------------------------------------\n",
      "--------------------------------------------------\n",
      "Now training model: rf\n",
      "Reading training dataset...\n",
      "Training dataset read in 0:00:00.061636. Found 660 examples.\n",
      "Reading validation dataset...\n",
      "Num validation examples: tf.Tensor(146, shape=(), dtype=int32)\n",
      "Validation dataset read in 0:00:00.059887. Found 146 examples.\n",
      "Training model...\n",
      "Model trained in 0:00:00.032003\n",
      "Compiling model...\n",
      "Model compiled.\n"
     ]
    },
    {
     "name": "stderr",
     "output_type": "stream",
     "text": [
      "[INFO 23-08-07 02:53:31.3087 +08 kernel.cc:1243] Loading model from path /var/folders/ll/h2ldzwfj6kl5qkxyrsrp33p80000gn/T/tmpzcvdoeh7/model/ with prefix 9c63eaf2ddb04e6b\n",
      "[INFO 23-08-07 02:53:31.3172 +08 decision_forest.cc:660] Model loaded with 300 root(s), 7820 node(s), and 2 input feature(s).\n",
      "[INFO 23-08-07 02:53:31.3172 +08 kernel.cc:1075] Use fast generic engine\n"
     ]
    },
    {
     "name": "stdout",
     "output_type": "stream",
     "text": [
      "1/1 [==============================] - 0s 26ms/step - loss: 0.0000e+00 - accuracy: 0.9639\n",
      "loss: 0.0000\n",
      "accuracy: 0.9639\n",
      "1/1 [==============================] - 0s 12ms/step\n"
     ]
    },
    {
     "name": "stderr",
     "output_type": "stream",
     "text": [
      "WARNING:absl:At this time, the v2.11+ optimizer `tf.keras.optimizers.SGD` runs slowly on M1/M2 Macs, please use the legacy Keras optimizer instead, located at `tf.keras.optimizers.legacy.SGD`.\n",
      "WARNING:absl:There is a known slowdown when using v2.11+ Keras optimizers on M1/M2 Macs. Falling back to the legacy Keras optimizer, i.e., `tf.keras.optimizers.legacy.SGD`.\n"
     ]
    },
    {
     "name": "stdout",
     "output_type": "stream",
     "text": [
      "--------------------------------------------------\n",
      "--------------------------------------------------\n",
      "Now training model: gbt\n",
      "Reading training dataset...\n",
      "Training dataset read in 0:00:00.061175. Found 636 examples.\n",
      "Reading validation dataset...\n",
      "Num validation examples: tf.Tensor(166, shape=(), dtype=int32)\n",
      "Validation dataset read in 0:00:00.057103. Found 166 examples.\n",
      "Training model...\n",
      "Model trained in 0:00:00.073194\n",
      "Compiling model...\n"
     ]
    },
    {
     "name": "stderr",
     "output_type": "stream",
     "text": [
      "[INFO 23-08-07 02:53:31.6300 +08 kernel.cc:1243] Loading model from path /var/folders/ll/h2ldzwfj6kl5qkxyrsrp33p80000gn/T/tmpgykfh8cu/model/ with prefix 4029eea5acab4c68\n",
      "[INFO 23-08-07 02:53:31.6334 +08 kernel.cc:1075] Use fast generic engine\n"
     ]
    },
    {
     "name": "stdout",
     "output_type": "stream",
     "text": [
      "Model compiled.\n",
      "1/1 [==============================] - 0s 26ms/step - loss: 0.0000e+00 - accuracy: 0.9646\n",
      "loss: 0.0000\n",
      "accuracy: 0.9646\n",
      "1/1 [==============================] - 0s 12ms/step\n",
      "--------------------------------------------------\n"
     ]
    }
   ],
   "source": [
    "for model_name in models.keys():\n",
    "    print(\"-\"*50)\n",
    "    print(f\"Now training model: {model_name}\")\n",
    "    models[model_name].load_dataset(data, 'Label')\n",
    "    models[model_name].fit()\n",
    "    models[model_name].evaluate()\n",
    "    # print(f'Info: {models[model_name].info()}')\n",
    "    predictions = models[model_name].predict(length=5, split=\"test\")\n",
    "    print(\"-\"*50)"
   ]
  },
  {
   "cell_type": "markdown",
   "metadata": {},
   "source": [
    "#### Regression dataset example"
   ]
  },
  {
   "cell_type": "code",
   "execution_count": 1,
   "metadata": {},
   "outputs": [],
   "source": [
    "import numpy as np\n",
    "import pandas as pd\n",
    "\n",
    "# Set a random seed for reproducibility\n",
    "np.random.seed(42)\n",
    "\n",
    "# Number of samples\n",
    "num_samples = 1000\n",
    "\n",
    "# Generate a random feature\n",
    "feature = np.random.rand(num_samples)\n",
    "\n",
    "# Generate the target variable based on the feature with some random noise\n",
    "target = 2 * feature + 1 + np.random.randn(num_samples)\n",
    "\n",
    "# Combine the feature and target into a DataFrame\n",
    "data = pd.DataFrame({'Feature': feature, 'Target': target})"
   ]
  },
  {
   "cell_type": "code",
   "execution_count": 2,
   "metadata": {},
   "outputs": [
    {
     "data": {
      "text/html": [
       "<div>\n",
       "<style scoped>\n",
       "    .dataframe tbody tr th:only-of-type {\n",
       "        vertical-align: middle;\n",
       "    }\n",
       "\n",
       "    .dataframe tbody tr th {\n",
       "        vertical-align: top;\n",
       "    }\n",
       "\n",
       "    .dataframe thead th {\n",
       "        text-align: right;\n",
       "    }\n",
       "</style>\n",
       "<table border=\"1\" class=\"dataframe\">\n",
       "  <thead>\n",
       "    <tr style=\"text-align: right;\">\n",
       "      <th></th>\n",
       "      <th>Feature</th>\n",
       "      <th>Target</th>\n",
       "    </tr>\n",
       "  </thead>\n",
       "  <tbody>\n",
       "    <tr>\n",
       "      <th>0</th>\n",
       "      <td>0.374540</td>\n",
       "      <td>1.926781</td>\n",
       "    </tr>\n",
       "    <tr>\n",
       "      <th>1</th>\n",
       "      <td>0.950714</td>\n",
       "      <td>1.566084</td>\n",
       "    </tr>\n",
       "    <tr>\n",
       "      <th>2</th>\n",
       "      <td>0.731994</td>\n",
       "      <td>2.844186</td>\n",
       "    </tr>\n",
       "    <tr>\n",
       "      <th>3</th>\n",
       "      <td>0.598658</td>\n",
       "      <td>2.807903</td>\n",
       "    </tr>\n",
       "    <tr>\n",
       "      <th>4</th>\n",
       "      <td>0.156019</td>\n",
       "      <td>1.871828</td>\n",
       "    </tr>\n",
       "  </tbody>\n",
       "</table>\n",
       "</div>"
      ],
      "text/plain": [
       "    Feature    Target\n",
       "0  0.374540  1.926781\n",
       "1  0.950714  1.566084\n",
       "2  0.731994  2.844186\n",
       "3  0.598658  2.807903\n",
       "4  0.156019  1.871828"
      ]
     },
     "execution_count": 2,
     "metadata": {},
     "output_type": "execute_result"
    }
   ],
   "source": [
    "data.head()"
   ]
  },
  {
   "cell_type": "code",
   "execution_count": 7,
   "metadata": {},
   "outputs": [
    {
     "name": "stdout",
     "output_type": "stream",
     "text": [
      "Use /var/folders/ll/h2ldzwfj6kl5qkxyrsrp33p80000gn/T/tmp2vbh6s7j as temporary training directory\n",
      "Use /var/folders/ll/h2ldzwfj6kl5qkxyrsrp33p80000gn/T/tmpk4f_mv28 as temporary training directory\n",
      "Use /var/folders/ll/h2ldzwfj6kl5qkxyrsrp33p80000gn/T/tmph3rk0opn as temporary training directory\n"
     ]
    },
    {
     "name": "stderr",
     "output_type": "stream",
     "text": [
      "[WARNING 23-08-07 03:10:17.8855 +08 gradient_boosted_trees.cc:1818] \"goss_alpha\" set but \"sampling_method\" not equal to \"GOSS\".\n",
      "[WARNING 23-08-07 03:10:17.8855 +08 gradient_boosted_trees.cc:1829] \"goss_beta\" set but \"sampling_method\" not equal to \"GOSS\".\n",
      "[WARNING 23-08-07 03:10:17.8855 +08 gradient_boosted_trees.cc:1843] \"selective_gradient_boosting_ratio\" set but \"sampling_method\" not equal to \"SELGB\".\n"
     ]
    }
   ],
   "source": [
    "from tensorflow_ml.classification.decision_tree import DecisionTree\n",
    "\n",
    "gbt = DecisionTree(model = \"gbt\", verbose = True, _task = 'regression')\n",
    "rf = DecisionTree(model = \"rf\", verbose = True, _task = 'regression')\n",
    "cart = DecisionTree(model = \"cart\", verbose = True, _task = 'regression')"
   ]
  },
  {
   "cell_type": "code",
   "execution_count": 8,
   "metadata": {},
   "outputs": [
    {
     "name": "stdout",
     "output_type": "stream",
     "text": [
      "\n",
      "Model: cart\n",
      "Params: {'task': 2}\n",
      "\n",
      "Model: rf\n",
      "Params: {'task': 2}\n",
      "\n",
      "Model: gbt\n",
      "Params: {'task': 2}\n"
     ]
    }
   ],
   "source": [
    "# Print the configs for each model in a loop\n",
    "models = {\n",
    "    \"cart\":cart,\n",
    "    \"rf\":rf,\n",
    "    \"gbt\":gbt,\n",
    "}\n",
    "\n",
    "for model_name in models.keys():\n",
    "    print(f\"\\nModel: {model_name}\")\n",
    "    print(f\"Params: {models[model_name].get_params()}\")"
   ]
  },
  {
   "cell_type": "code",
   "execution_count": 9,
   "metadata": {},
   "outputs": [
    {
     "name": "stderr",
     "output_type": "stream",
     "text": [
      "WARNING:absl:At this time, the v2.11+ optimizer `tf.keras.optimizers.SGD` runs slowly on M1/M2 Macs, please use the legacy Keras optimizer instead, located at `tf.keras.optimizers.legacy.SGD`.\n",
      "WARNING:absl:There is a known slowdown when using v2.11+ Keras optimizers on M1/M2 Macs. Falling back to the legacy Keras optimizer, i.e., `tf.keras.optimizers.legacy.SGD`.\n"
     ]
    },
    {
     "name": "stdout",
     "output_type": "stream",
     "text": [
      "--------------------------------------------------\n",
      "Now training model: cart\n",
      "Reading training dataset...\n",
      "Training dataset read in 0:00:00.057140. Found 660 examples.\n",
      "Reading validation dataset...\n",
      "Num validation examples: tf.Tensor(139, shape=(), dtype=int32)\n",
      "Validation dataset read in 0:00:00.047689. Found 139 examples.\n",
      "Training model...\n",
      "Model trained in 0:00:00.004739\n",
      "Compiling model...\n",
      "Model compiled.\n",
      "1/1 [==============================] - 0s 23ms/step - loss: 0.0000e+00 - mse: 1.0441\n"
     ]
    },
    {
     "name": "stderr",
     "output_type": "stream",
     "text": [
      "[INFO 23-08-07 03:10:18.3637 +08 kernel.cc:1243] Loading model from path /var/folders/ll/h2ldzwfj6kl5qkxyrsrp33p80000gn/T/tmph3rk0opn/model/ with prefix f23e419c73f14d5a\n",
      "[INFO 23-08-07 03:10:18.3639 +08 decision_forest.cc:660] Model loaded with 1 root(s), 45 node(s), and 1 input feature(s).\n",
      "[INFO 23-08-07 03:10:18.3639 +08 abstract_model.cc:1312] Engine \"RandomForestOptPred\" built\n",
      "[INFO 23-08-07 03:10:18.3639 +08 kernel.cc:1075] Use fast generic engine\n"
     ]
    },
    {
     "name": "stdout",
     "output_type": "stream",
     "text": [
      "loss: 0.0000\n",
      "mse: 1.0441\n",
      "1/1 [==============================] - 0s 11ms/step\n"
     ]
    },
    {
     "name": "stderr",
     "output_type": "stream",
     "text": [
      "WARNING:absl:At this time, the v2.11+ optimizer `tf.keras.optimizers.SGD` runs slowly on M1/M2 Macs, please use the legacy Keras optimizer instead, located at `tf.keras.optimizers.legacy.SGD`.\n",
      "WARNING:absl:There is a known slowdown when using v2.11+ Keras optimizers on M1/M2 Macs. Falling back to the legacy Keras optimizer, i.e., `tf.keras.optimizers.legacy.SGD`.\n"
     ]
    },
    {
     "name": "stdout",
     "output_type": "stream",
     "text": [
      "--------------------------------------------------\n",
      "--------------------------------------------------\n",
      "Now training model: rf\n",
      "Reading training dataset...\n",
      "WARNING:tensorflow:5 out of the last 5 calls to <function CoreModel._consumes_training_examples_until_eof at 0x16a8ae480> triggered tf.function retracing. Tracing is expensive and the excessive number of tracings could be due to (1) creating @tf.function repeatedly in a loop, (2) passing tensors with different shapes, (3) passing Python objects instead of tensors. For (1), please define your @tf.function outside of the loop. For (2), @tf.function has reduce_retracing=True option that can avoid unnecessary retracing. For (3), please refer to https://www.tensorflow.org/guide/function#controlling_retracing and https://www.tensorflow.org/api_docs/python/tf/function for  more details.\n"
     ]
    },
    {
     "name": "stderr",
     "output_type": "stream",
     "text": [
      "WARNING:tensorflow:5 out of the last 5 calls to <function CoreModel._consumes_training_examples_until_eof at 0x16a8ae480> triggered tf.function retracing. Tracing is expensive and the excessive number of tracings could be due to (1) creating @tf.function repeatedly in a loop, (2) passing tensors with different shapes, (3) passing Python objects instead of tensors. For (1), please define your @tf.function outside of the loop. For (2), @tf.function has reduce_retracing=True option that can avoid unnecessary retracing. For (3), please refer to https://www.tensorflow.org/guide/function#controlling_retracing and https://www.tensorflow.org/api_docs/python/tf/function for  more details.\n"
     ]
    },
    {
     "name": "stdout",
     "output_type": "stream",
     "text": [
      "Training dataset read in 0:00:00.047939. Found 630 examples.\n",
      "Reading validation dataset...\n",
      "WARNING:tensorflow:5 out of the last 5 calls to <function CoreModel._consumes_validation_examples_until_eof at 0x16a8ae660> triggered tf.function retracing. Tracing is expensive and the excessive number of tracings could be due to (1) creating @tf.function repeatedly in a loop, (2) passing tensors with different shapes, (3) passing Python objects instead of tensors. For (1), please define your @tf.function outside of the loop. For (2), @tf.function has reduce_retracing=True option that can avoid unnecessary retracing. For (3), please refer to https://www.tensorflow.org/guide/function#controlling_retracing and https://www.tensorflow.org/api_docs/python/tf/function for  more details.\n"
     ]
    },
    {
     "name": "stderr",
     "output_type": "stream",
     "text": [
      "WARNING:tensorflow:5 out of the last 5 calls to <function CoreModel._consumes_validation_examples_until_eof at 0x16a8ae660> triggered tf.function retracing. Tracing is expensive and the excessive number of tracings could be due to (1) creating @tf.function repeatedly in a loop, (2) passing tensors with different shapes, (3) passing Python objects instead of tensors. For (1), please define your @tf.function outside of the loop. For (2), @tf.function has reduce_retracing=True option that can avoid unnecessary retracing. For (3), please refer to https://www.tensorflow.org/guide/function#controlling_retracing and https://www.tensorflow.org/api_docs/python/tf/function for  more details.\n"
     ]
    },
    {
     "name": "stdout",
     "output_type": "stream",
     "text": [
      "Num validation examples: tf.Tensor(158, shape=(), dtype=int32)\n",
      "Validation dataset read in 0:00:00.048464. Found 158 examples.\n",
      "Training model...\n"
     ]
    },
    {
     "name": "stderr",
     "output_type": "stream",
     "text": [
      "[INFO 23-08-07 03:10:18.6269 +08 kernel.cc:1243] Loading model from path /var/folders/ll/h2ldzwfj6kl5qkxyrsrp33p80000gn/T/tmpk4f_mv28/model/ with prefix 128a8023414e42b6\n"
     ]
    },
    {
     "name": "stdout",
     "output_type": "stream",
     "text": [
      "Model trained in 0:00:00.131851\n",
      "Compiling model...\n"
     ]
    },
    {
     "name": "stderr",
     "output_type": "stream",
     "text": [
      "[INFO 23-08-07 03:10:18.6888 +08 decision_forest.cc:660] Model loaded with 300 root(s), 56724 node(s), and 1 input feature(s).\n",
      "[INFO 23-08-07 03:10:18.6888 +08 kernel.cc:1075] Use fast generic engine\n"
     ]
    },
    {
     "name": "stdout",
     "output_type": "stream",
     "text": [
      "Model compiled.\n",
      "1/1 [==============================] - 0s 33ms/step - loss: 0.0000e+00 - mse: 1.1126\n",
      "loss: 0.0000\n",
      "mse: 1.1126\n",
      "1/1 [==============================] - 0s 18ms/step\n"
     ]
    },
    {
     "name": "stderr",
     "output_type": "stream",
     "text": [
      "WARNING:absl:At this time, the v2.11+ optimizer `tf.keras.optimizers.SGD` runs slowly on M1/M2 Macs, please use the legacy Keras optimizer instead, located at `tf.keras.optimizers.legacy.SGD`.\n",
      "WARNING:absl:There is a known slowdown when using v2.11+ Keras optimizers on M1/M2 Macs. Falling back to the legacy Keras optimizer, i.e., `tf.keras.optimizers.legacy.SGD`.\n"
     ]
    },
    {
     "name": "stdout",
     "output_type": "stream",
     "text": [
      "--------------------------------------------------\n",
      "--------------------------------------------------\n",
      "Now training model: gbt\n",
      "Reading training dataset...\n",
      "WARNING:tensorflow:6 out of the last 6 calls to <function CoreModel._consumes_training_examples_until_eof at 0x16a8ae480> triggered tf.function retracing. Tracing is expensive and the excessive number of tracings could be due to (1) creating @tf.function repeatedly in a loop, (2) passing tensors with different shapes, (3) passing Python objects instead of tensors. For (1), please define your @tf.function outside of the loop. For (2), @tf.function has reduce_retracing=True option that can avoid unnecessary retracing. For (3), please refer to https://www.tensorflow.org/guide/function#controlling_retracing and https://www.tensorflow.org/api_docs/python/tf/function for  more details.\n"
     ]
    },
    {
     "name": "stderr",
     "output_type": "stream",
     "text": [
      "WARNING:tensorflow:6 out of the last 6 calls to <function CoreModel._consumes_training_examples_until_eof at 0x16a8ae480> triggered tf.function retracing. Tracing is expensive and the excessive number of tracings could be due to (1) creating @tf.function repeatedly in a loop, (2) passing tensors with different shapes, (3) passing Python objects instead of tensors. For (1), please define your @tf.function outside of the loop. For (2), @tf.function has reduce_retracing=True option that can avoid unnecessary retracing. For (3), please refer to https://www.tensorflow.org/guide/function#controlling_retracing and https://www.tensorflow.org/api_docs/python/tf/function for  more details.\n"
     ]
    },
    {
     "name": "stdout",
     "output_type": "stream",
     "text": [
      "Training dataset read in 0:00:00.048993. Found 625 examples.\n",
      "Reading validation dataset...\n",
      "WARNING:tensorflow:6 out of the last 6 calls to <function CoreModel._consumes_validation_examples_until_eof at 0x16a8ae660> triggered tf.function retracing. Tracing is expensive and the excessive number of tracings could be due to (1) creating @tf.function repeatedly in a loop, (2) passing tensors with different shapes, (3) passing Python objects instead of tensors. For (1), please define your @tf.function outside of the loop. For (2), @tf.function has reduce_retracing=True option that can avoid unnecessary retracing. For (3), please refer to https://www.tensorflow.org/guide/function#controlling_retracing and https://www.tensorflow.org/api_docs/python/tf/function for  more details.\n"
     ]
    },
    {
     "name": "stderr",
     "output_type": "stream",
     "text": [
      "WARNING:tensorflow:6 out of the last 6 calls to <function CoreModel._consumes_validation_examples_until_eof at 0x16a8ae660> triggered tf.function retracing. Tracing is expensive and the excessive number of tracings could be due to (1) creating @tf.function repeatedly in a loop, (2) passing tensors with different shapes, (3) passing Python objects instead of tensors. For (1), please define your @tf.function outside of the loop. For (2), @tf.function has reduce_retracing=True option that can avoid unnecessary retracing. For (3), please refer to https://www.tensorflow.org/guide/function#controlling_retracing and https://www.tensorflow.org/api_docs/python/tf/function for  more details.\n"
     ]
    },
    {
     "name": "stdout",
     "output_type": "stream",
     "text": [
      "Num validation examples: tf.Tensor(160, shape=(), dtype=int32)\n",
      "Validation dataset read in 0:00:00.048584. Found 160 examples.\n",
      "Training model...\n",
      "Model trained in 0:00:00.029657\n",
      "Compiling model...\n",
      "Model compiled.\n"
     ]
    },
    {
     "name": "stderr",
     "output_type": "stream",
     "text": [
      "[INFO 23-08-07 03:10:18.9676 +08 kernel.cc:1243] Loading model from path /var/folders/ll/h2ldzwfj6kl5qkxyrsrp33p80000gn/T/tmp2vbh6s7j/model/ with prefix 2d96fdcfd4164213\n",
      "[INFO 23-08-07 03:10:18.9688 +08 kernel.cc:1075] Use fast generic engine\n"
     ]
    },
    {
     "name": "stdout",
     "output_type": "stream",
     "text": [
      "1/1 [==============================] - 0s 24ms/step - loss: 0.0000e+00 - mse: 0.9410\n",
      "loss: 0.0000\n",
      "mse: 0.9410\n",
      "1/1 [==============================] - 0s 10ms/step\n",
      "--------------------------------------------------\n"
     ]
    }
   ],
   "source": [
    "for model_name in models.keys():\n",
    "    print(\"-\"*50)\n",
    "    print(f\"Now training model: {model_name}\")\n",
    "    models[model_name].load_dataset(data, 'Target')\n",
    "    models[model_name].fit(_metrics = ['mse'])\n",
    "    models[model_name].evaluate()\n",
    "    # print(f'Info: {models[model_name].info()}')\n",
    "    predictions = models[model_name].predict(length=5, split=\"test\")\n",
    "    print(\"-\"*50)"
   ]
  },
  {
   "cell_type": "code",
   "execution_count": null,
   "metadata": {},
   "outputs": [],
   "source": []
  }
 ],
 "metadata": {
  "kernelspec": {
   "display_name": "pyalgo",
   "language": "python",
   "name": "python3"
  },
  "language_info": {
   "codemirror_mode": {
    "name": "ipython",
    "version": 3
   },
   "file_extension": ".py",
   "mimetype": "text/x-python",
   "name": "python",
   "nbconvert_exporter": "python",
   "pygments_lexer": "ipython3",
   "version": "3.11.4"
  },
  "orig_nbformat": 4
 },
 "nbformat": 4,
 "nbformat_minor": 2
}
