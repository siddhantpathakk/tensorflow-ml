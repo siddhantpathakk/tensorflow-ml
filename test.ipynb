{
 "cells": [
  {
   "cell_type": "code",
   "execution_count": 1,
   "metadata": {},
   "outputs": [],
   "source": [
    "import numpy as np\n",
    "import pandas as pd\n",
    "# Generate random pandas dataframe of 4 columns and 100 rows for regression based on equation y = 2x1 + 3x2 + 4x3 + 5x4 + 23.2 + noise\n",
    "x = np.random.rand(1000, 4)\n",
    "y = 2*x[:, 0] + 3*x[:, 1] + 4*x[:, 2] + 5*x[:, 3] + 23.2 + np.random.randn(1000)*0.01\n",
    "# store x and y as pandas dataframe wiht columns as x1, x2, x3, x4 and y\n",
    "df = pd.DataFrame(data=np.concatenate((x, y.reshape(-1, 1)), axis=1), columns=['x1', 'x2', 'x3', 'x4', 'y'])"
   ]
  },
  {
   "cell_type": "code",
   "execution_count": 2,
   "metadata": {},
   "outputs": [
    {
     "data": {
      "text/html": [
       "<div>\n",
       "<style scoped>\n",
       "    .dataframe tbody tr th:only-of-type {\n",
       "        vertical-align: middle;\n",
       "    }\n",
       "\n",
       "    .dataframe tbody tr th {\n",
       "        vertical-align: top;\n",
       "    }\n",
       "\n",
       "    .dataframe thead th {\n",
       "        text-align: right;\n",
       "    }\n",
       "</style>\n",
       "<table border=\"1\" class=\"dataframe\">\n",
       "  <thead>\n",
       "    <tr style=\"text-align: right;\">\n",
       "      <th></th>\n",
       "      <th>x1</th>\n",
       "      <th>x2</th>\n",
       "      <th>x3</th>\n",
       "      <th>x4</th>\n",
       "      <th>y</th>\n",
       "    </tr>\n",
       "  </thead>\n",
       "  <tbody>\n",
       "    <tr>\n",
       "      <th>0</th>\n",
       "      <td>0.784134</td>\n",
       "      <td>0.116929</td>\n",
       "      <td>0.326995</td>\n",
       "      <td>0.505385</td>\n",
       "      <td>28.955582</td>\n",
       "    </tr>\n",
       "    <tr>\n",
       "      <th>1</th>\n",
       "      <td>0.400726</td>\n",
       "      <td>0.529760</td>\n",
       "      <td>0.651983</td>\n",
       "      <td>0.092851</td>\n",
       "      <td>28.646407</td>\n",
       "    </tr>\n",
       "    <tr>\n",
       "      <th>2</th>\n",
       "      <td>0.500022</td>\n",
       "      <td>0.248735</td>\n",
       "      <td>0.543929</td>\n",
       "      <td>0.262800</td>\n",
       "      <td>28.445895</td>\n",
       "    </tr>\n",
       "    <tr>\n",
       "      <th>3</th>\n",
       "      <td>0.942020</td>\n",
       "      <td>0.304014</td>\n",
       "      <td>0.385448</td>\n",
       "      <td>0.184301</td>\n",
       "      <td>28.449959</td>\n",
       "    </tr>\n",
       "    <tr>\n",
       "      <th>4</th>\n",
       "      <td>0.859173</td>\n",
       "      <td>0.528452</td>\n",
       "      <td>0.436139</td>\n",
       "      <td>0.233612</td>\n",
       "      <td>29.418826</td>\n",
       "    </tr>\n",
       "    <tr>\n",
       "      <th>...</th>\n",
       "      <td>...</td>\n",
       "      <td>...</td>\n",
       "      <td>...</td>\n",
       "      <td>...</td>\n",
       "      <td>...</td>\n",
       "    </tr>\n",
       "    <tr>\n",
       "      <th>995</th>\n",
       "      <td>0.350231</td>\n",
       "      <td>0.662481</td>\n",
       "      <td>0.073843</td>\n",
       "      <td>0.037631</td>\n",
       "      <td>26.376213</td>\n",
       "    </tr>\n",
       "    <tr>\n",
       "      <th>996</th>\n",
       "      <td>0.292041</td>\n",
       "      <td>0.495846</td>\n",
       "      <td>0.440144</td>\n",
       "      <td>0.567016</td>\n",
       "      <td>29.868103</td>\n",
       "    </tr>\n",
       "    <tr>\n",
       "      <th>997</th>\n",
       "      <td>0.085147</td>\n",
       "      <td>0.506020</td>\n",
       "      <td>0.098614</td>\n",
       "      <td>0.606430</td>\n",
       "      <td>28.316832</td>\n",
       "    </tr>\n",
       "    <tr>\n",
       "      <th>998</th>\n",
       "      <td>0.906510</td>\n",
       "      <td>0.381802</td>\n",
       "      <td>0.521837</td>\n",
       "      <td>0.952093</td>\n",
       "      <td>32.997793</td>\n",
       "    </tr>\n",
       "    <tr>\n",
       "      <th>999</th>\n",
       "      <td>0.111638</td>\n",
       "      <td>0.260963</td>\n",
       "      <td>0.900646</td>\n",
       "      <td>0.807885</td>\n",
       "      <td>31.840387</td>\n",
       "    </tr>\n",
       "  </tbody>\n",
       "</table>\n",
       "<p>1000 rows × 5 columns</p>\n",
       "</div>"
      ],
      "text/plain": [
       "           x1        x2        x3        x4          y\n",
       "0    0.784134  0.116929  0.326995  0.505385  28.955582\n",
       "1    0.400726  0.529760  0.651983  0.092851  28.646407\n",
       "2    0.500022  0.248735  0.543929  0.262800  28.445895\n",
       "3    0.942020  0.304014  0.385448  0.184301  28.449959\n",
       "4    0.859173  0.528452  0.436139  0.233612  29.418826\n",
       "..        ...       ...       ...       ...        ...\n",
       "995  0.350231  0.662481  0.073843  0.037631  26.376213\n",
       "996  0.292041  0.495846  0.440144  0.567016  29.868103\n",
       "997  0.085147  0.506020  0.098614  0.606430  28.316832\n",
       "998  0.906510  0.381802  0.521837  0.952093  32.997793\n",
       "999  0.111638  0.260963  0.900646  0.807885  31.840387\n",
       "\n",
       "[1000 rows x 5 columns]"
      ]
     },
     "execution_count": 2,
     "metadata": {},
     "output_type": "execute_result"
    }
   ],
   "source": [
    "df"
   ]
  },
  {
   "cell_type": "code",
   "execution_count": 3,
   "metadata": {},
   "outputs": [
    {
     "name": "stdout",
     "output_type": "stream",
     "text": [
      "{'n_examples': 1000, 'training_steps': 100, 'display_step': 1, 'learning_rate': 0.01}\n"
     ]
    }
   ],
   "source": [
    "from tensorflow_ml.regression.linear_regression import LinearRegression\n",
    "lr = LinearRegression()\n",
    "\n",
    "_params = {\n",
    "    \"n_examples\": len(df),\n",
    "    \"learning_rate\": 0.01,\n",
    "    \"training_steps\": 100,\n",
    "    \"display_step\": 1,\n",
    "}\n",
    "\n",
    "lr.set_params(_params)\n",
    "\n",
    "print(lr.get_params())"
   ]
  },
  {
   "cell_type": "code",
   "execution_count": 4,
   "metadata": {},
   "outputs": [],
   "source": [
    "# convert the x1,x2,x3,x4 into np.ndarray from dataframe\n",
    "# x = df[['x1']].to_numpy()\n",
    "x = df[['x1', 'x2', 'x3', 'x4']].to_numpy()\n",
    "y = df['y'].to_numpy()"
   ]
  },
  {
   "cell_type": "code",
   "execution_count": 5,
   "metadata": {},
   "outputs": [
    {
     "ename": "TypeError",
     "evalue": "Missing required positional argument",
     "output_type": "error",
     "traceback": [
      "\u001b[0;31m---------------------------------------------------------------------------\u001b[0m",
      "\u001b[0;31mTypeError\u001b[0m                                 Traceback (most recent call last)",
      "Cell \u001b[0;32mIn[5], line 1\u001b[0m\n\u001b[0;32m----> 1\u001b[0m lr\u001b[39m.\u001b[39mfit(x, y, verbose\u001b[39m=\u001b[39m\u001b[39mTrue\u001b[39;00m)\n",
      "File \u001b[0;32m~/Desktop/Projects/tensorflow-ml/tensorflow_ml/regression/linear_regression.py:56\u001b[0m, in \u001b[0;36mLinearRegression.fit\u001b[0;34m(self, x, y, verbose)\u001b[0m\n\u001b[1;32m     53\u001b[0m \u001b[39mself\u001b[39m\u001b[39m.\u001b[39mx, \u001b[39mself\u001b[39m\u001b[39m.\u001b[39my \u001b[39m=\u001b[39m x, y\n\u001b[1;32m     54\u001b[0m \u001b[39mfor\u001b[39;00m step \u001b[39min\u001b[39;00m \u001b[39mrange\u001b[39m(\u001b[39mself\u001b[39m\u001b[39m.\u001b[39mparams[\u001b[39m'\u001b[39m\u001b[39mtraining_steps\u001b[39m\u001b[39m'\u001b[39m]): \u001b[39m# iterate for each training step\u001b[39;00m\n\u001b[1;32m     55\u001b[0m     \u001b[39m# direction (sign)  and value of the gradient of our loss w.r.t weight and bias\u001b[39;00m\n\u001b[0;32m---> 56\u001b[0m     deltaW, deltaB \u001b[39m=\u001b[39m grad(x, y, \u001b[39mself\u001b[39m\u001b[39m.\u001b[39mW, \u001b[39mself\u001b[39m\u001b[39m.\u001b[39mB) \n\u001b[1;32m     58\u001b[0m     change_W \u001b[39m=\u001b[39m deltaW \u001b[39m*\u001b[39m  \u001b[39mself\u001b[39m\u001b[39m.\u001b[39mparams[\u001b[39m\"\u001b[39m\u001b[39mlearning_rate\u001b[39m\u001b[39m\"\u001b[39m] \u001b[39m# adjustment amount for weight\u001b[39;00m\n\u001b[1;32m     59\u001b[0m     change_B \u001b[39m=\u001b[39m deltaB \u001b[39m*\u001b[39m  \u001b[39mself\u001b[39m\u001b[39m.\u001b[39mparams[\u001b[39m\"\u001b[39m\u001b[39mlearning_rate\u001b[39m\u001b[39m\"\u001b[39m] \u001b[39m# adjustment amount for bias\u001b[39;00m\n",
      "File \u001b[0;32m~/Desktop/Projects/tensorflow-ml/tensorflow_ml/regression/utils.py:63\u001b[0m, in \u001b[0;36mgrad\u001b[0;34m(x, y, weights, biases)\u001b[0m\n\u001b[1;32m     61\u001b[0m \u001b[39m# magical feature of tensorflow to calculate gradient for backpropagation\u001b[39;00m\n\u001b[1;32m     62\u001b[0m \u001b[39mwith\u001b[39;00m tf\u001b[39m.\u001b[39mGradientTape() \u001b[39mas\u001b[39;00m tape:\n\u001b[0;32m---> 63\u001b[0m     loss_ \u001b[39m=\u001b[39m loss(x, y, weights, biases)\n\u001b[1;32m     65\u001b[0m \u001b[39m# direction and value of the gradient of our loss w.r.t weight and bias\u001b[39;00m\n\u001b[1;32m     66\u001b[0m \u001b[39mreturn\u001b[39;00m tape\u001b[39m.\u001b[39mgradient(loss_, [weights, biases])\n",
      "File \u001b[0;32m~/Desktop/Projects/tensorflow-ml/tensorflow_ml/regression/utils.py:41\u001b[0m, in \u001b[0;36mloss\u001b[0;34m(x, y, weights, biases)\u001b[0m\n\u001b[1;32m     28\u001b[0m \u001b[39m\u001b[39m\u001b[39m\"\"\"A loss function using mean-squared error\u001b[39;00m\n\u001b[1;32m     29\u001b[0m \n\u001b[1;32m     30\u001b[0m \u001b[39mArgs:\u001b[39;00m\n\u001b[0;32m   (...)\u001b[0m\n\u001b[1;32m     37\u001b[0m \u001b[39m    Overall mean of squared error\u001b[39;00m\n\u001b[1;32m     38\u001b[0m \u001b[39m\"\"\"\u001b[39;00m\n\u001b[1;32m     40\u001b[0m \u001b[39m#  how 'wrong' our predicted (learned)  y is\u001b[39;00m\n\u001b[0;32m---> 41\u001b[0m error \u001b[39m=\u001b[39m prediction(x, weights, biases) \u001b[39m-\u001b[39m y \n\u001b[1;32m     43\u001b[0m squared_error \u001b[39m=\u001b[39m tf\u001b[39m.\u001b[39msquare(error)\n\u001b[1;32m     45\u001b[0m \u001b[39m# overall mean of squared error\u001b[39;00m\n",
      "File \u001b[0;32m~/Desktop/Projects/tensorflow-ml/tensorflow_ml/regression/utils.py:25\u001b[0m, in \u001b[0;36mprediction\u001b[0;34m(x, weight, bias)\u001b[0m\n\u001b[1;32m     23\u001b[0m x \u001b[39m=\u001b[39m tf\u001b[39m.\u001b[39mconvert_to_tensor(value\u001b[39m=\u001b[39mx, dtype\u001b[39m=\u001b[39mtf\u001b[39m.\u001b[39mfloat64)\n\u001b[1;32m     24\u001b[0m \u001b[39m# using tensorflow to calculate predicted value x dot m + c\u001b[39;00m\n\u001b[0;32m---> 25\u001b[0m \u001b[39mreturn\u001b[39;00m tf\u001b[39m.\u001b[39madd(tf\u001b[39m.\u001b[39mtensordot(x, weight), bias)\n",
      "File \u001b[0;32m~/miniconda3/envs/pyalgo/lib/python3.11/site-packages/tensorflow/python/util/traceback_utils.py:153\u001b[0m, in \u001b[0;36mfilter_traceback.<locals>.error_handler\u001b[0;34m(*args, **kwargs)\u001b[0m\n\u001b[1;32m    151\u001b[0m \u001b[39mexcept\u001b[39;00m \u001b[39mException\u001b[39;00m \u001b[39mas\u001b[39;00m e:\n\u001b[1;32m    152\u001b[0m   filtered_tb \u001b[39m=\u001b[39m _process_traceback_frames(e\u001b[39m.\u001b[39m__traceback__)\n\u001b[0;32m--> 153\u001b[0m   \u001b[39mraise\u001b[39;00m e\u001b[39m.\u001b[39mwith_traceback(filtered_tb) \u001b[39mfrom\u001b[39;00m \u001b[39mNone\u001b[39;00m\n\u001b[1;32m    154\u001b[0m \u001b[39mfinally\u001b[39;00m:\n\u001b[1;32m    155\u001b[0m   \u001b[39mdel\u001b[39;00m filtered_tb\n",
      "File \u001b[0;32m~/miniconda3/envs/pyalgo/lib/python3.11/site-packages/tensorflow/python/util/dispatch.py:1170\u001b[0m, in \u001b[0;36madd_dispatch_support.<locals>.decorator.<locals>.op_dispatch_handler\u001b[0;34m(*args, **kwargs)\u001b[0m\n\u001b[1;32m   1168\u001b[0m \u001b[39mif\u001b[39;00m iterable_params \u001b[39mis\u001b[39;00m \u001b[39mnot\u001b[39;00m \u001b[39mNone\u001b[39;00m:\n\u001b[1;32m   1169\u001b[0m   args, kwargs \u001b[39m=\u001b[39m replace_iterable_params(args, kwargs, iterable_params)\n\u001b[0;32m-> 1170\u001b[0m result \u001b[39m=\u001b[39m api_dispatcher\u001b[39m.\u001b[39mDispatch(args, kwargs)\n\u001b[1;32m   1171\u001b[0m \u001b[39mif\u001b[39;00m result \u001b[39mis\u001b[39;00m \u001b[39mnot\u001b[39;00m \u001b[39mNotImplemented\u001b[39m:\n\u001b[1;32m   1172\u001b[0m   \u001b[39mreturn\u001b[39;00m result\n",
      "\u001b[0;31mTypeError\u001b[0m: Missing required positional argument"
     ]
    }
   ],
   "source": [
    "lr.fit(x, y, verbose=True)"
   ]
  },
  {
   "cell_type": "code",
   "execution_count": null,
   "metadata": {},
   "outputs": [
    {
     "name": "stdout",
     "output_type": "stream",
     "text": [
      "Mean Squared Error :\n",
      "\t 4.462292924018684\n",
      "Predictions :\n",
      "\t [30.17522293 30.17677721 30.17427383 30.17601116 30.17555672]\n",
      "Actual :\n",
      "\t [29.75779159 31.3985639  28.34553162 31.00691356 29.83446968]\n",
      "Model coefficients:\n",
      "\tW = [0.00212902 0.00183636 0.00221172 0.00213155]\n",
      "\tB = 30.171523057305873\n"
     ]
    }
   ],
   "source": [
    "print(\"Mean Squared Error :\\n\\t\", lr.evaluate())\n",
    "print(\"Predictions :\\n\\t\", lr.predict(x[:5]))\n",
    "print(\"Actual :\\n\\t\", y[:5])\n",
    "\n",
    "coeffs = lr.get_coeffs()\n",
    "print(\"Model coefficients:\\n\\tW = {}\\n\\tB = {}\".format(coeffs[\"weight\"], coeffs[\"bias\"]))"
   ]
  },
  {
   "cell_type": "code",
   "execution_count": null,
   "metadata": {},
   "outputs": [
    {
     "name": "stdout",
     "output_type": "stream",
     "text": [
      "\n",
      "Therefore, the predicted model equation is:\n",
      "\ty = 0.0021 * x[:, 0] + 0.001836 * x[:, 1] + 0.0022 * x[:, 2] + 0.0021 * x[:, 3] + 30.1715\n",
      "The actual model equation is:\n",
      "\ty = 2 * x[:, 0] + 3 * x[:, 1] + 4 * x[:, 2] + 5 * x[:, 3] + 23.2 + NOISE\n"
     ]
    }
   ],
   "source": [
    "print(\"\\nTherefore, the predicted model equation is:\\n\\ty = {:.4f} * x[:, 0] + {:4f} * x[:, 1] + {:.4f} * x[:, 2] + {:.4f} * x[:, 3] + {:.4f}\"\n",
    "      .format(coeffs[\"weight\"][0], coeffs[\"weight\"][1], coeffs[\"weight\"][2], coeffs[\"weight\"][3], coeffs[\"bias\"]))\n",
    "print(\"The actual model equation is:\\n\\ty = 2 * x[:, 0] + 3 * x[:, 1] + 4 * x[:, 2] + 5 * x[:, 3] + 23.2 + NOISE\")"
   ]
  },
  {
   "cell_type": "code",
   "execution_count": null,
   "metadata": {},
   "outputs": [
    {
     "data": {
      "text/html": [
       "<style>#sk-container-id-1 {color: black;background-color: white;}#sk-container-id-1 pre{padding: 0;}#sk-container-id-1 div.sk-toggleable {background-color: white;}#sk-container-id-1 label.sk-toggleable__label {cursor: pointer;display: block;width: 100%;margin-bottom: 0;padding: 0.3em;box-sizing: border-box;text-align: center;}#sk-container-id-1 label.sk-toggleable__label-arrow:before {content: \"▸\";float: left;margin-right: 0.25em;color: #696969;}#sk-container-id-1 label.sk-toggleable__label-arrow:hover:before {color: black;}#sk-container-id-1 div.sk-estimator:hover label.sk-toggleable__label-arrow:before {color: black;}#sk-container-id-1 div.sk-toggleable__content {max-height: 0;max-width: 0;overflow: hidden;text-align: left;background-color: #f0f8ff;}#sk-container-id-1 div.sk-toggleable__content pre {margin: 0.2em;color: black;border-radius: 0.25em;background-color: #f0f8ff;}#sk-container-id-1 input.sk-toggleable__control:checked~div.sk-toggleable__content {max-height: 200px;max-width: 100%;overflow: auto;}#sk-container-id-1 input.sk-toggleable__control:checked~label.sk-toggleable__label-arrow:before {content: \"▾\";}#sk-container-id-1 div.sk-estimator input.sk-toggleable__control:checked~label.sk-toggleable__label {background-color: #d4ebff;}#sk-container-id-1 div.sk-label input.sk-toggleable__control:checked~label.sk-toggleable__label {background-color: #d4ebff;}#sk-container-id-1 input.sk-hidden--visually {border: 0;clip: rect(1px 1px 1px 1px);clip: rect(1px, 1px, 1px, 1px);height: 1px;margin: -1px;overflow: hidden;padding: 0;position: absolute;width: 1px;}#sk-container-id-1 div.sk-estimator {font-family: monospace;background-color: #f0f8ff;border: 1px dotted black;border-radius: 0.25em;box-sizing: border-box;margin-bottom: 0.5em;}#sk-container-id-1 div.sk-estimator:hover {background-color: #d4ebff;}#sk-container-id-1 div.sk-parallel-item::after {content: \"\";width: 100%;border-bottom: 1px solid gray;flex-grow: 1;}#sk-container-id-1 div.sk-label:hover label.sk-toggleable__label {background-color: #d4ebff;}#sk-container-id-1 div.sk-serial::before {content: \"\";position: absolute;border-left: 1px solid gray;box-sizing: border-box;top: 0;bottom: 0;left: 50%;z-index: 0;}#sk-container-id-1 div.sk-serial {display: flex;flex-direction: column;align-items: center;background-color: white;padding-right: 0.2em;padding-left: 0.2em;position: relative;}#sk-container-id-1 div.sk-item {position: relative;z-index: 1;}#sk-container-id-1 div.sk-parallel {display: flex;align-items: stretch;justify-content: center;background-color: white;position: relative;}#sk-container-id-1 div.sk-item::before, #sk-container-id-1 div.sk-parallel-item::before {content: \"\";position: absolute;border-left: 1px solid gray;box-sizing: border-box;top: 0;bottom: 0;left: 50%;z-index: -1;}#sk-container-id-1 div.sk-parallel-item {display: flex;flex-direction: column;z-index: 1;position: relative;background-color: white;}#sk-container-id-1 div.sk-parallel-item:first-child::after {align-self: flex-end;width: 50%;}#sk-container-id-1 div.sk-parallel-item:last-child::after {align-self: flex-start;width: 50%;}#sk-container-id-1 div.sk-parallel-item:only-child::after {width: 0;}#sk-container-id-1 div.sk-dashed-wrapped {border: 1px dashed gray;margin: 0 0.4em 0.5em 0.4em;box-sizing: border-box;padding-bottom: 0.4em;background-color: white;}#sk-container-id-1 div.sk-label label {font-family: monospace;font-weight: bold;display: inline-block;line-height: 1.2em;}#sk-container-id-1 div.sk-label-container {text-align: center;}#sk-container-id-1 div.sk-container {/* jupyter's `normalize.less` sets `[hidden] { display: none; }` but bootstrap.min.css set `[hidden] { display: none !important; }` so we also need the `!important` here to be able to override the default hidden behavior on the sphinx rendered scikit-learn.org. See: https://github.com/scikit-learn/scikit-learn/issues/21755 */display: inline-block !important;position: relative;}#sk-container-id-1 div.sk-text-repr-fallback {display: none;}</style><div id=\"sk-container-id-1\" class=\"sk-top-container\"><div class=\"sk-text-repr-fallback\"><pre>LinearRegression()</pre><b>In a Jupyter environment, please rerun this cell to show the HTML representation or trust the notebook. <br />On GitHub, the HTML representation is unable to render, please try loading this page with nbviewer.org.</b></div><div class=\"sk-container\" hidden><div class=\"sk-item\"><div class=\"sk-estimator sk-toggleable\"><input class=\"sk-toggleable__control sk-hidden--visually\" id=\"sk-estimator-id-1\" type=\"checkbox\" checked><label for=\"sk-estimator-id-1\" class=\"sk-toggleable__label sk-toggleable__label-arrow\">LinearRegression</label><div class=\"sk-toggleable__content\"><pre>LinearRegression()</pre></div></div></div></div></div>"
      ],
      "text/plain": [
       "LinearRegression()"
      ]
     },
     "execution_count": 81,
     "metadata": {},
     "output_type": "execute_result"
    }
   ],
   "source": [
    "# Train a linear regression model using sklearn\n",
    "from sklearn.linear_model import LinearRegression as LR\n",
    "\n",
    "lr2 = LR()\n",
    "lr2.fit(x, y)"
   ]
  },
  {
   "cell_type": "code",
   "execution_count": null,
   "metadata": {},
   "outputs": [
    {
     "data": {
      "text/plain": [
       "array([1.99979101, 3.00025041, 3.9999732 , 4.99915861])"
      ]
     },
     "execution_count": 82,
     "metadata": {},
     "output_type": "execute_result"
    }
   ],
   "source": [
    "lr2.coef_"
   ]
  },
  {
   "cell_type": "code",
   "execution_count": null,
   "metadata": {},
   "outputs": [
    {
     "data": {
      "text/plain": [
       "23.20043792370233"
      ]
     },
     "execution_count": 83,
     "metadata": {},
     "output_type": "execute_result"
    }
   ],
   "source": [
    "lr2.intercept_"
   ]
  },
  {
   "cell_type": "code",
   "execution_count": null,
   "metadata": {},
   "outputs": [
    {
     "data": {
      "text/plain": [
       "{'copy_X': True, 'fit_intercept': True, 'n_jobs': None, 'positive': False}"
      ]
     },
     "execution_count": 85,
     "metadata": {},
     "output_type": "execute_result"
    }
   ],
   "source": [
    "lr2.get_params()"
   ]
  },
  {
   "cell_type": "code",
   "execution_count": null,
   "metadata": {},
   "outputs": [],
   "source": []
  }
 ],
 "metadata": {
  "kernelspec": {
   "display_name": "pyalgo",
   "language": "python",
   "name": "python3"
  },
  "language_info": {
   "codemirror_mode": {
    "name": "ipython",
    "version": 3
   },
   "file_extension": ".py",
   "mimetype": "text/x-python",
   "name": "python",
   "nbconvert_exporter": "python",
   "pygments_lexer": "ipython3",
   "version": "3.11.4"
  },
  "orig_nbformat": 4
 },
 "nbformat": 4,
 "nbformat_minor": 2
}
